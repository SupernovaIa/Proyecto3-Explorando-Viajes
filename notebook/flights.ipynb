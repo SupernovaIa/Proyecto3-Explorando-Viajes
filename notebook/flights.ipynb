{
 "cells": [
  {
   "cell_type": "markdown",
   "metadata": {},
   "source": [
    "AirScraper API"
   ]
  },
  {
   "cell_type": "code",
   "execution_count": 21,
   "metadata": {},
   "outputs": [
    {
     "data": {
      "text/plain": [
       "True"
      ]
     },
     "execution_count": 21,
     "metadata": {},
     "output_type": "execute_result"
    }
   ],
   "source": [
    "import seaborn as sns\n",
    "import matplotlib.pyplot as plt\n",
    "import pandas as pd\n",
    "import dotenv\n",
    "\n",
    "dotenv.load_dotenv()"
   ]
  },
  {
   "cell_type": "code",
   "execution_count": 2,
   "metadata": {},
   "outputs": [],
   "source": [
    "# Path\n",
    "import sys\n",
    "sys.path.append('../')"
   ]
  },
  {
   "cell_type": "code",
   "execution_count": 3,
   "metadata": {},
   "outputs": [],
   "source": [
    "from src.support_flights import get_flight_info"
   ]
  },
  {
   "cell_type": "markdown",
   "metadata": {},
   "source": [
    "Let's star by departure flights. Since we are going to go on the 21-22-23 of December of 2024 and return 27-28-29\n",
    "\n",
    "Let’s take the following considerations into account:\n",
    "\n",
    "- Since we are creating experiences for one person only, we are looking for a single flight seat.\n",
    "\n",
    "- We are committed to the environment, so we only select low-emission flights.\n",
    "\n",
    "- We also try to offer affordable fares, so we focus on economic seats."
   ]
  },
  {
   "cell_type": "code",
   "execution_count": 56,
   "metadata": {},
   "outputs": [],
   "source": [
    "departure_dates = [f\"2024-12-{i}\" for i in range(21,24)]\n",
    "return_dates = [f\"2024-12-{i}\" for i in range(27,30)]\n",
    "\n",
    "departure = \"MAD\"\n",
    "arrival = [\"BCN\", \"BUD\"]"
   ]
  },
  {
   "cell_type": "markdown",
   "metadata": {},
   "source": [
    "Departure flights"
   ]
  },
  {
   "cell_type": "code",
   "execution_count": 5,
   "metadata": {},
   "outputs": [],
   "source": [
    "df_list_dep = []\n",
    "\n",
    "for arr in arrival:\n",
    "\n",
    "    for date in departure_dates:\n",
    "\n",
    "        df_list_dep.append(get_flight_info(\"MAD\", arr, date))\n",
    "\n",
    "df_departures = pd.concat(df_list_dep)"
   ]
  },
  {
   "cell_type": "code",
   "execution_count": 6,
   "metadata": {},
   "outputs": [
    {
     "data": {
      "text/html": [
       "<div>\n",
       "<style scoped>\n",
       "    .dataframe tbody tr th:only-of-type {\n",
       "        vertical-align: middle;\n",
       "    }\n",
       "\n",
       "    .dataframe tbody tr th {\n",
       "        vertical-align: top;\n",
       "    }\n",
       "\n",
       "    .dataframe thead th {\n",
       "        text-align: right;\n",
       "    }\n",
       "</style>\n",
       "<table border=\"1\" class=\"dataframe\">\n",
       "  <thead>\n",
       "    <tr style=\"text-align: right;\">\n",
       "      <th></th>\n",
       "      <th>Departure Airport</th>\n",
       "      <th>Departure ID</th>\n",
       "      <th>Departure time</th>\n",
       "      <th>Arrival Airport</th>\n",
       "      <th>Arrival ID</th>\n",
       "      <th>Arrival time</th>\n",
       "      <th>Airplane</th>\n",
       "      <th>Airline</th>\n",
       "      <th>Legroom (cm)</th>\n",
       "      <th>Actual emisions</th>\n",
       "      <th>Typical emissions</th>\n",
       "      <th>Difference emissions (%)</th>\n",
       "      <th>Price</th>\n",
       "    </tr>\n",
       "  </thead>\n",
       "  <tbody>\n",
       "    <tr>\n",
       "      <th>0</th>\n",
       "      <td>Aeropuerto Adolfo Suárez Madrid-Barajas</td>\n",
       "      <td>MAD</td>\n",
       "      <td>2024-12-21 07:30</td>\n",
       "      <td>Aeropuerto Josep Tarradellas Barcelona-El Prat</td>\n",
       "      <td>BCN</td>\n",
       "      <td>2024-12-21 08:55</td>\n",
       "      <td>Boeing 787</td>\n",
       "      <td>Air Europa</td>\n",
       "      <td>79 cm</td>\n",
       "      <td>53000</td>\n",
       "      <td>62000</td>\n",
       "      <td>-15</td>\n",
       "      <td>42</td>\n",
       "    </tr>\n",
       "    <tr>\n",
       "      <th>1</th>\n",
       "      <td>Aeropuerto Adolfo Suárez Madrid-Barajas</td>\n",
       "      <td>MAD</td>\n",
       "      <td>2024-12-21 15:10</td>\n",
       "      <td>Aeropuerto Josep Tarradellas Barcelona-El Prat</td>\n",
       "      <td>BCN</td>\n",
       "      <td>2024-12-21 16:35</td>\n",
       "      <td>Boeing 787</td>\n",
       "      <td>Air Europa</td>\n",
       "      <td>79 cm</td>\n",
       "      <td>53000</td>\n",
       "      <td>62000</td>\n",
       "      <td>-15</td>\n",
       "      <td>105</td>\n",
       "    </tr>\n",
       "    <tr>\n",
       "      <th>0</th>\n",
       "      <td>Aeropuerto Adolfo Suárez Madrid-Barajas</td>\n",
       "      <td>MAD</td>\n",
       "      <td>2024-12-22 15:10</td>\n",
       "      <td>Aeropuerto Josep Tarradellas Barcelona-El Prat</td>\n",
       "      <td>BCN</td>\n",
       "      <td>2024-12-22 16:35</td>\n",
       "      <td>Boeing 787</td>\n",
       "      <td>Air Europa</td>\n",
       "      <td>79 cm</td>\n",
       "      <td>53000</td>\n",
       "      <td>62000</td>\n",
       "      <td>-15</td>\n",
       "      <td>132</td>\n",
       "    </tr>\n",
       "    <tr>\n",
       "      <th>0</th>\n",
       "      <td>Aeropuerto Adolfo Suárez Madrid-Barajas</td>\n",
       "      <td>MAD</td>\n",
       "      <td>2024-12-23 07:30</td>\n",
       "      <td>Aeropuerto Josep Tarradellas Barcelona-El Prat</td>\n",
       "      <td>BCN</td>\n",
       "      <td>2024-12-23 08:55</td>\n",
       "      <td>Boeing 787</td>\n",
       "      <td>Air Europa</td>\n",
       "      <td>79 cm</td>\n",
       "      <td>53000</td>\n",
       "      <td>62000</td>\n",
       "      <td>-15</td>\n",
       "      <td>54</td>\n",
       "    </tr>\n",
       "    <tr>\n",
       "      <th>0</th>\n",
       "      <td>Aeropuerto Adolfo Suárez Madrid-Barajas</td>\n",
       "      <td>MAD</td>\n",
       "      <td>2024-12-21 20:35</td>\n",
       "      <td>Aeropuerto de Budapest-Ferenc Liszt</td>\n",
       "      <td>BUD</td>\n",
       "      <td>2024-12-21 23:40</td>\n",
       "      <td>Boeing 737MAX 8 Passenger</td>\n",
       "      <td>Ryanair</td>\n",
       "      <td>71 cm</td>\n",
       "      <td>131000</td>\n",
       "      <td>209000</td>\n",
       "      <td>-37</td>\n",
       "      <td>112</td>\n",
       "    </tr>\n",
       "  </tbody>\n",
       "</table>\n",
       "</div>"
      ],
      "text/plain": [
       "                         Departure Airport Departure ID    Departure time  \\\n",
       "0  Aeropuerto Adolfo Suárez Madrid-Barajas          MAD  2024-12-21 07:30   \n",
       "1  Aeropuerto Adolfo Suárez Madrid-Barajas          MAD  2024-12-21 15:10   \n",
       "0  Aeropuerto Adolfo Suárez Madrid-Barajas          MAD  2024-12-22 15:10   \n",
       "0  Aeropuerto Adolfo Suárez Madrid-Barajas          MAD  2024-12-23 07:30   \n",
       "0  Aeropuerto Adolfo Suárez Madrid-Barajas          MAD  2024-12-21 20:35   \n",
       "\n",
       "                                  Arrival Airport Arrival ID  \\\n",
       "0  Aeropuerto Josep Tarradellas Barcelona-El Prat        BCN   \n",
       "1  Aeropuerto Josep Tarradellas Barcelona-El Prat        BCN   \n",
       "0  Aeropuerto Josep Tarradellas Barcelona-El Prat        BCN   \n",
       "0  Aeropuerto Josep Tarradellas Barcelona-El Prat        BCN   \n",
       "0             Aeropuerto de Budapest-Ferenc Liszt        BUD   \n",
       "\n",
       "       Arrival time                   Airplane     Airline Legroom (cm)  \\\n",
       "0  2024-12-21 08:55                 Boeing 787  Air Europa        79 cm   \n",
       "1  2024-12-21 16:35                 Boeing 787  Air Europa        79 cm   \n",
       "0  2024-12-22 16:35                 Boeing 787  Air Europa        79 cm   \n",
       "0  2024-12-23 08:55                 Boeing 787  Air Europa        79 cm   \n",
       "0  2024-12-21 23:40  Boeing 737MAX 8 Passenger     Ryanair        71 cm   \n",
       "\n",
       "   Actual emisions  Typical emissions  Difference emissions (%)  Price  \n",
       "0            53000              62000                       -15     42  \n",
       "1            53000              62000                       -15    105  \n",
       "0            53000              62000                       -15    132  \n",
       "0            53000              62000                       -15     54  \n",
       "0           131000             209000                       -37    112  "
      ]
     },
     "execution_count": 6,
     "metadata": {},
     "output_type": "execute_result"
    }
   ],
   "source": [
    "df_departures.head()"
   ]
  },
  {
   "cell_type": "code",
   "execution_count": 7,
   "metadata": {},
   "outputs": [],
   "source": [
    "df_departures.to_csv(\"../data/departure_flights.csv\", index = False)"
   ]
  },
  {
   "cell_type": "code",
   "execution_count": 8,
   "metadata": {},
   "outputs": [
    {
     "name": "stdout",
     "output_type": "stream",
     "text": [
      "No flighs from BCN to MAD on 2024-12-29\n"
     ]
    }
   ],
   "source": [
    "df_list_ret = []\n",
    "\n",
    "for arr in arrival:\n",
    "    \n",
    "    for date in return_dates:\n",
    "\n",
    "        df_list_ret.append(get_flight_info(arr, \"MAD\", date))\n",
    "\n",
    "df_returns = pd.concat(df_list_ret)"
   ]
  },
  {
   "cell_type": "code",
   "execution_count": 10,
   "metadata": {},
   "outputs": [],
   "source": [
    "df_returns.to_csv(\"../data/return_flights.csv\", index = False)"
   ]
  },
  {
   "cell_type": "code",
   "execution_count": 14,
   "metadata": {},
   "outputs": [],
   "source": [
    "df_final = pd.concat([df_departures, df_returns])\n",
    "df_final.to_csv(\"../data/all_flights.csv\", index = False)"
   ]
  },
  {
   "cell_type": "markdown",
   "metadata": {},
   "source": [
    "---"
   ]
  },
  {
   "cell_type": "code",
   "execution_count": 24,
   "metadata": {},
   "outputs": [],
   "source": [
    "df_final = pd.read_csv(\"../data/all_flights.csv\")"
   ]
  },
  {
   "cell_type": "code",
   "execution_count": 17,
   "metadata": {},
   "outputs": [
    {
     "data": {
      "text/html": [
       "<div>\n",
       "<style scoped>\n",
       "    .dataframe tbody tr th:only-of-type {\n",
       "        vertical-align: middle;\n",
       "    }\n",
       "\n",
       "    .dataframe tbody tr th {\n",
       "        vertical-align: top;\n",
       "    }\n",
       "\n",
       "    .dataframe thead th {\n",
       "        text-align: right;\n",
       "    }\n",
       "</style>\n",
       "<table border=\"1\" class=\"dataframe\">\n",
       "  <thead>\n",
       "    <tr style=\"text-align: right;\">\n",
       "      <th></th>\n",
       "      <th>Departure Airport</th>\n",
       "      <th>Departure ID</th>\n",
       "      <th>Departure time</th>\n",
       "      <th>Arrival Airport</th>\n",
       "      <th>Arrival ID</th>\n",
       "      <th>Arrival time</th>\n",
       "      <th>Airplane</th>\n",
       "      <th>Airline</th>\n",
       "      <th>Legroom (cm)</th>\n",
       "      <th>Actual emisions</th>\n",
       "      <th>Typical emissions</th>\n",
       "      <th>Difference emissions (%)</th>\n",
       "      <th>Price</th>\n",
       "    </tr>\n",
       "  </thead>\n",
       "  <tbody>\n",
       "    <tr>\n",
       "      <th>0</th>\n",
       "      <td>Aeropuerto Adolfo Suárez Madrid-Barajas</td>\n",
       "      <td>MAD</td>\n",
       "      <td>2024-12-21 07:30</td>\n",
       "      <td>Aeropuerto Josep Tarradellas Barcelona-El Prat</td>\n",
       "      <td>BCN</td>\n",
       "      <td>2024-12-21 08:55</td>\n",
       "      <td>Boeing 787</td>\n",
       "      <td>Air Europa</td>\n",
       "      <td>79 cm</td>\n",
       "      <td>53000</td>\n",
       "      <td>62000</td>\n",
       "      <td>-15</td>\n",
       "      <td>42</td>\n",
       "    </tr>\n",
       "    <tr>\n",
       "      <th>1</th>\n",
       "      <td>Aeropuerto Adolfo Suárez Madrid-Barajas</td>\n",
       "      <td>MAD</td>\n",
       "      <td>2024-12-21 15:10</td>\n",
       "      <td>Aeropuerto Josep Tarradellas Barcelona-El Prat</td>\n",
       "      <td>BCN</td>\n",
       "      <td>2024-12-21 16:35</td>\n",
       "      <td>Boeing 787</td>\n",
       "      <td>Air Europa</td>\n",
       "      <td>79 cm</td>\n",
       "      <td>53000</td>\n",
       "      <td>62000</td>\n",
       "      <td>-15</td>\n",
       "      <td>105</td>\n",
       "    </tr>\n",
       "    <tr>\n",
       "      <th>2</th>\n",
       "      <td>Aeropuerto Adolfo Suárez Madrid-Barajas</td>\n",
       "      <td>MAD</td>\n",
       "      <td>2024-12-22 15:10</td>\n",
       "      <td>Aeropuerto Josep Tarradellas Barcelona-El Prat</td>\n",
       "      <td>BCN</td>\n",
       "      <td>2024-12-22 16:35</td>\n",
       "      <td>Boeing 787</td>\n",
       "      <td>Air Europa</td>\n",
       "      <td>79 cm</td>\n",
       "      <td>53000</td>\n",
       "      <td>62000</td>\n",
       "      <td>-15</td>\n",
       "      <td>132</td>\n",
       "    </tr>\n",
       "    <tr>\n",
       "      <th>3</th>\n",
       "      <td>Aeropuerto Adolfo Suárez Madrid-Barajas</td>\n",
       "      <td>MAD</td>\n",
       "      <td>2024-12-23 07:30</td>\n",
       "      <td>Aeropuerto Josep Tarradellas Barcelona-El Prat</td>\n",
       "      <td>BCN</td>\n",
       "      <td>2024-12-23 08:55</td>\n",
       "      <td>Boeing 787</td>\n",
       "      <td>Air Europa</td>\n",
       "      <td>79 cm</td>\n",
       "      <td>53000</td>\n",
       "      <td>62000</td>\n",
       "      <td>-15</td>\n",
       "      <td>54</td>\n",
       "    </tr>\n",
       "    <tr>\n",
       "      <th>4</th>\n",
       "      <td>Aeropuerto Adolfo Suárez Madrid-Barajas</td>\n",
       "      <td>MAD</td>\n",
       "      <td>2024-12-21 20:35</td>\n",
       "      <td>Aeropuerto de Budapest-Ferenc Liszt</td>\n",
       "      <td>BUD</td>\n",
       "      <td>2024-12-21 23:40</td>\n",
       "      <td>Boeing 737MAX 8 Passenger</td>\n",
       "      <td>Ryanair</td>\n",
       "      <td>71 cm</td>\n",
       "      <td>131000</td>\n",
       "      <td>209000</td>\n",
       "      <td>-37</td>\n",
       "      <td>112</td>\n",
       "    </tr>\n",
       "  </tbody>\n",
       "</table>\n",
       "</div>"
      ],
      "text/plain": [
       "                         Departure Airport Departure ID    Departure time  \\\n",
       "0  Aeropuerto Adolfo Suárez Madrid-Barajas          MAD  2024-12-21 07:30   \n",
       "1  Aeropuerto Adolfo Suárez Madrid-Barajas          MAD  2024-12-21 15:10   \n",
       "2  Aeropuerto Adolfo Suárez Madrid-Barajas          MAD  2024-12-22 15:10   \n",
       "3  Aeropuerto Adolfo Suárez Madrid-Barajas          MAD  2024-12-23 07:30   \n",
       "4  Aeropuerto Adolfo Suárez Madrid-Barajas          MAD  2024-12-21 20:35   \n",
       "\n",
       "                                  Arrival Airport Arrival ID  \\\n",
       "0  Aeropuerto Josep Tarradellas Barcelona-El Prat        BCN   \n",
       "1  Aeropuerto Josep Tarradellas Barcelona-El Prat        BCN   \n",
       "2  Aeropuerto Josep Tarradellas Barcelona-El Prat        BCN   \n",
       "3  Aeropuerto Josep Tarradellas Barcelona-El Prat        BCN   \n",
       "4             Aeropuerto de Budapest-Ferenc Liszt        BUD   \n",
       "\n",
       "       Arrival time                   Airplane     Airline Legroom (cm)  \\\n",
       "0  2024-12-21 08:55                 Boeing 787  Air Europa        79 cm   \n",
       "1  2024-12-21 16:35                 Boeing 787  Air Europa        79 cm   \n",
       "2  2024-12-22 16:35                 Boeing 787  Air Europa        79 cm   \n",
       "3  2024-12-23 08:55                 Boeing 787  Air Europa        79 cm   \n",
       "4  2024-12-21 23:40  Boeing 737MAX 8 Passenger     Ryanair        71 cm   \n",
       "\n",
       "   Actual emisions  Typical emissions  Difference emissions (%)  Price  \n",
       "0            53000              62000                       -15     42  \n",
       "1            53000              62000                       -15    105  \n",
       "2            53000              62000                       -15    132  \n",
       "3            53000              62000                       -15     54  \n",
       "4           131000             209000                       -37    112  "
      ]
     },
     "execution_count": 17,
     "metadata": {},
     "output_type": "execute_result"
    }
   ],
   "source": [
    "df_final.head()"
   ]
  },
  {
   "cell_type": "markdown",
   "metadata": {},
   "source": [
    "The dataset obtained contains the following information:\n",
    "\n",
    "- `Departure and Arrival Airports`: The names and codes (IATA) of the airports where the flight departs and arrives.\n",
    "- `Departure and Arrival Times`: The date and time of the flight’s departure and arrival.\n",
    "- `Airplane`: The aircraft model used for the flight.\n",
    "- `Airline`: The airline operating the flight.\n",
    "- `Legroom`: Space available for passengers' legs, measured in centimeters.\n",
    "- `Emissions`: Actual and typical CO2 emissions for the flight, along with the percentage difference.\n",
    "- `Price`: The ticket price for the flight in EUR."
   ]
  },
  {
   "cell_type": "code",
   "execution_count": 25,
   "metadata": {},
   "outputs": [],
   "source": [
    "# We can build a new column that says if the flight is related to Budapest or Barcelona\n",
    "df_final['Target City'] = df_final.apply(lambda row: 'BCN' if 'BCN' in [row['Departure ID'], row['Arrival ID']] \n",
    "                                    else 'BUD' if 'BUD' in [row['Departure ID'], row['Arrival ID']] \n",
    "                                    else 'Other', axis=1)"
   ]
  },
  {
   "cell_type": "markdown",
   "metadata": {},
   "source": [
    "We can compare Budapest and Barcelona"
   ]
  },
  {
   "cell_type": "code",
   "execution_count": 33,
   "metadata": {},
   "outputs": [
    {
     "data": {
      "text/html": [
       "<div>\n",
       "<style scoped>\n",
       "    .dataframe tbody tr th:only-of-type {\n",
       "        vertical-align: middle;\n",
       "    }\n",
       "\n",
       "    .dataframe tbody tr th {\n",
       "        vertical-align: top;\n",
       "    }\n",
       "\n",
       "    .dataframe thead th {\n",
       "        text-align: right;\n",
       "    }\n",
       "</style>\n",
       "<table border=\"1\" class=\"dataframe\">\n",
       "  <thead>\n",
       "    <tr style=\"text-align: right;\">\n",
       "      <th>Target City</th>\n",
       "      <th>BCN</th>\n",
       "      <th>BUD</th>\n",
       "    </tr>\n",
       "  </thead>\n",
       "  <tbody>\n",
       "    <tr>\n",
       "      <th>count</th>\n",
       "      <td>6.000000</td>\n",
       "      <td>21.000000</td>\n",
       "    </tr>\n",
       "    <tr>\n",
       "      <th>mean</th>\n",
       "      <td>99.666667</td>\n",
       "      <td>179.952381</td>\n",
       "    </tr>\n",
       "    <tr>\n",
       "      <th>std</th>\n",
       "      <td>56.073761</td>\n",
       "      <td>73.190489</td>\n",
       "    </tr>\n",
       "    <tr>\n",
       "      <th>min</th>\n",
       "      <td>42.000000</td>\n",
       "      <td>89.000000</td>\n",
       "    </tr>\n",
       "    <tr>\n",
       "      <th>25%</th>\n",
       "      <td>58.750000</td>\n",
       "      <td>121.000000</td>\n",
       "    </tr>\n",
       "    <tr>\n",
       "      <th>50%</th>\n",
       "      <td>89.000000</td>\n",
       "      <td>160.000000</td>\n",
       "    </tr>\n",
       "    <tr>\n",
       "      <th>75%</th>\n",
       "      <td>125.250000</td>\n",
       "      <td>240.000000</td>\n",
       "    </tr>\n",
       "    <tr>\n",
       "      <th>max</th>\n",
       "      <td>192.000000</td>\n",
       "      <td>301.000000</td>\n",
       "    </tr>\n",
       "  </tbody>\n",
       "</table>\n",
       "</div>"
      ],
      "text/plain": [
       "Target City         BCN         BUD\n",
       "count          6.000000   21.000000\n",
       "mean          99.666667  179.952381\n",
       "std           56.073761   73.190489\n",
       "min           42.000000   89.000000\n",
       "25%           58.750000  121.000000\n",
       "50%           89.000000  160.000000\n",
       "75%          125.250000  240.000000\n",
       "max          192.000000  301.000000"
      ]
     },
     "execution_count": 33,
     "metadata": {},
     "output_type": "execute_result"
    }
   ],
   "source": [
    "df_final.groupby('Target City')['Price'].describe().T"
   ]
  },
  {
   "cell_type": "markdown",
   "metadata": {},
   "source": [
    "Generally, we have more options to fly to Budapest rather than Barcelona, however Barcelona is generally cheaper. This makes sense since Budapest is way further away from Madrid than Barcelona."
   ]
  },
  {
   "cell_type": "code",
   "execution_count": 55,
   "metadata": {},
   "outputs": [
    {
     "data": {
      "image/png": "[encoded data removed]",
      "text/plain": [
       "<Figure size 800x500 with 1 Axes>"
      ]
     },
     "metadata": {},
     "output_type": "display_data"
    }
   ],
   "source": [
    "# We build a scatterplot to compare emisions vs price\n",
    "plt.figure(figsize = (8, 5))\n",
    "\n",
    "sns.scatterplot(x = \"Price\",\n",
    "                y = \"Actual emisions\",\n",
    "                data = df_final,\n",
    "                hue = \"Target City\",\n",
    "                palette= \"mako\",\n",
    "                s = 30)\n",
    "\n",
    "plt.xlabel(\"Price (€)\")\n",
    "plt.ylabel(\"Actual emisions (g CO2)\")\n",
    "plt.title(\"Emisions vs Price\")\n",
    "plt.legend()\n",
    "plt.show()"
   ]
  },
  {
   "cell_type": "code",
   "execution_count": 65,
   "metadata": {},
   "outputs": [],
   "source": [
    "df_airlines = df_final.groupby(['Target City','Airline'])['Actual emisions'].mean().reset_index()"
   ]
  },
  {
   "cell_type": "code",
   "execution_count": 66,
   "metadata": {},
   "outputs": [
    {
     "data": {
      "text/html": [
       "<div>\n",
       "<style scoped>\n",
       "    .dataframe tbody tr th:only-of-type {\n",
       "        vertical-align: middle;\n",
       "    }\n",
       "\n",
       "    .dataframe tbody tr th {\n",
       "        vertical-align: top;\n",
       "    }\n",
       "\n",
       "    .dataframe thead th {\n",
       "        text-align: right;\n",
       "    }\n",
       "</style>\n",
       "<table border=\"1\" class=\"dataframe\">\n",
       "  <thead>\n",
       "    <tr style=\"text-align: right;\">\n",
       "      <th></th>\n",
       "      <th>Target City</th>\n",
       "      <th>Airline</th>\n",
       "      <th>Actual emisions</th>\n",
       "    </tr>\n",
       "  </thead>\n",
       "  <tbody>\n",
       "    <tr>\n",
       "      <th>0</th>\n",
       "      <td>BCN</td>\n",
       "      <td>Air Europa</td>\n",
       "      <td>53000.0</td>\n",
       "    </tr>\n",
       "    <tr>\n",
       "      <th>1</th>\n",
       "      <td>BUD</td>\n",
       "      <td>Iberia</td>\n",
       "      <td>163000.0</td>\n",
       "    </tr>\n",
       "    <tr>\n",
       "      <th>2</th>\n",
       "      <td>BUD</td>\n",
       "      <td>Ryanair</td>\n",
       "      <td>144500.0</td>\n",
       "    </tr>\n",
       "    <tr>\n",
       "      <th>3</th>\n",
       "      <td>BUD</td>\n",
       "      <td>Wizz Air</td>\n",
       "      <td>117000.0</td>\n",
       "    </tr>\n",
       "  </tbody>\n",
       "</table>\n",
       "</div>"
      ],
      "text/plain": [
       "  Target City     Airline  Actual emisions\n",
       "0         BCN  Air Europa          53000.0\n",
       "1         BUD      Iberia         163000.0\n",
       "2         BUD     Ryanair         144500.0\n",
       "3         BUD    Wizz Air         117000.0"
      ]
     },
     "execution_count": 66,
     "metadata": {},
     "output_type": "execute_result"
    }
   ],
   "source": [
    "df_airlines"
   ]
  },
  {
   "cell_type": "code",
   "execution_count": 69,
   "metadata": {},
   "outputs": [
    {
     "data": {
      "image/png": "[encoded data removed]",
      "text/plain": [
       "<Figure size 800x500 with 1 Axes>"
      ]
     },
     "metadata": {},
     "output_type": "display_data"
    }
   ],
   "source": [
    "plt.figure(figsize = (8, 5))\n",
    "\n",
    "sns.barplot(x = \"Airline\",\n",
    "                y = \"Actual emisions\",\n",
    "                data = df_airlines,\n",
    "                hue = \"Target City\",\n",
    "                palette= \"mako\"\n",
    "                )\n",
    "\n",
    "plt.xlabel(\"Airline\")\n",
    "plt.ylabel(\"Actual emisions (g CO2)\")\n",
    "plt.title(\"Emisions vs Airline\")\n",
    "plt.legend()\n",
    "plt.show()"
   ]
  },
  {
   "cell_type": "markdown",
   "metadata": {},
   "source": [
    "Air Europa only operates on the Madrid-Barcelona route, so it is logical that it has lower emissions. Iberia, Ryanair, and Wizz Air operate Madrid-Budapest flights, with Wizz Air being the least polluting."
   ]
  }
 ],
 "metadata": {
  "kernelspec": {
   "display_name": "test",
   "language": "python",
   "name": "python3"
  },
  "language_info": {
   "codemirror_mode": {
    "name": "ipython",
    "version": 3
   },
   "file_extension": ".py",
   "mimetype": "text/x-python",
   "name": "python",
   "nbconvert_exporter": "python",
   "pygments_lexer": "ipython3",
   "version": "3.12.4"
  }
 },
 "nbformat": 4,
 "nbformat_minor": 2
}
