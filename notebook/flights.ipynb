{
 "cells": [
  {
   "cell_type": "markdown",
   "metadata": {},
   "source": [
    "AirScraper API"
   ]
  },
  {
   "cell_type": "code",
   "execution_count": null,
   "metadata": {},
   "outputs": [],
   "source": [
    "# Tratamiento de datos\n",
    "# -----------------------------------------------------------------------\n",
    "import pandas as pd\n",
    "import numpy as np\n",
    "\n",
    "# Para incluir una barra de proceso en for loops\n",
    "# -----------------------------------------------------------------------\n",
    "from tqdm import tqdm\n",
    "\n",
    "# Para introducir tiempo entre las llamadas\n",
    "# -----------------------------------------------------------------------\n",
    "from time import sleep\n",
    "\n",
    "# Para trabajar con archivos dotenv y los tokens\n",
    "# -----------------------------------------------------------------------\n",
    "import os\n",
    "import dotenv\n",
    "\n",
    "# Devuelve True si hay un .env con información\n",
    "dotenv.load_dotenv()"
   ]
  },
  {
   "cell_type": "code",
   "execution_count": 9,
   "metadata": {},
   "outputs": [],
   "source": [
    "# Path\n",
    "import sys\n",
    "sys.path.append('../')"
   ]
  },
  {
   "cell_type": "code",
   "execution_count": 10,
   "metadata": {},
   "outputs": [],
   "source": [
    "from src.support_flights import get_flight_info"
   ]
  },
  {
   "cell_type": "markdown",
   "metadata": {},
   "source": [
    "Aeropuertos RapidAPI Airscraper"
   ]
  },
  {
   "cell_type": "markdown",
   "metadata": {},
   "source": [
    "Let's star by departure flights. Since we are going to go on the 21-22-23 of December of 2024 and return 27-28-29"
   ]
  },
  {
   "cell_type": "code",
   "execution_count": 11,
   "metadata": {},
   "outputs": [],
   "source": [
    "departure_dates = [f\"2024-12-{i}\" for i in range(21,24)]\n",
    "return_dates = [f\"2024-12-{i}\" for i in range(27,30)]\n",
    "\n",
    "departure = \"MAD\"\n",
    "arrival = [\"BCN\", \"BUD\"]"
   ]
  },
  {
   "cell_type": "markdown",
   "metadata": {},
   "source": [
    "Departure flights"
   ]
  },
  {
   "cell_type": "code",
   "execution_count": null,
   "metadata": {},
   "outputs": [],
   "source": [
    "df_list_dep = []\n",
    "\n",
    "for arr in arrival:\n",
    "\n",
    "    for date in departure_dates:\n",
    "\n",
    "        df_list_dep.append(get_flight_info(\"MAD\", arr, date))\n",
    "\n",
    "df_departures = pd.concat(df_list_dep)"
   ]
  },
  {
   "cell_type": "code",
   "execution_count": null,
   "metadata": {},
   "outputs": [],
   "source": [
    "df_departures.head()"
   ]
  },
  {
   "cell_type": "code",
   "execution_count": 7,
   "metadata": {},
   "outputs": [],
   "source": [
    "df_departures.to_csv(\"../data/departure_flights.csv\", index = False)"
   ]
  },
  {
   "cell_type": "code",
   "execution_count": null,
   "metadata": {},
   "outputs": [],
   "source": [
    "df_list_ret = []\n",
    "\n",
    "for arr in arrival:\n",
    "    \n",
    "    for date in return_dates:\n",
    "\n",
    "        df_list_ret.append(get_flight_info(arr, \"MAD\", date))\n",
    "\n",
    "df_returns = pd.concat(df_list_ret)"
   ]
  },
  {
   "cell_type": "code",
   "execution_count": null,
   "metadata": {},
   "outputs": [],
   "source": [
    "df_returns.head()"
   ]
  },
  {
   "cell_type": "code",
   "execution_count": 9,
   "metadata": {},
   "outputs": [],
   "source": [
    "df_returns.to_csv(\"../data/return_flights.csv\", index = False)"
   ]
  },
  {
   "cell_type": "code",
   "execution_count": 13,
   "metadata": {},
   "outputs": [],
   "source": [
    "df_final = pd.concat([df_departures, df_returns])\n",
    "# df_final.to_csv(\"../data/all_flights.csv\", index = False)"
   ]
  },
  {
   "cell_type": "code",
   "execution_count": 6,
   "metadata": {},
   "outputs": [],
   "source": [
    "# df_final = pd.read_csv(\"../data/all_flights.csv\")"
   ]
  }
 ],
 "metadata": {
  "kernelspec": {
   "display_name": "test",
   "language": "python",
   "name": "python3"
  },
  "language_info": {
   "codemirror_mode": {
    "name": "ipython",
    "version": 3
   },
   "file_extension": ".py",
   "mimetype": "text/x-python",
   "name": "python",
   "nbconvert_exporter": "python",
   "pygments_lexer": "ipython3",
   "version": "3.12.4"
  }
 },
 "nbformat": 4,
 "nbformat_minor": 2
}
