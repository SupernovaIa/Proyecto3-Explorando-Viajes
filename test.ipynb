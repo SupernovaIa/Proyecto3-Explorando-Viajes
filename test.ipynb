{
 "cells": [
  {
   "cell_type": "code",
   "execution_count": 224,
   "metadata": {},
   "outputs": [],
   "source": [
    "import requests\n",
    "from bs4 import BeautifulSoup"
   ]
  },
  {
   "cell_type": "code",
   "execution_count": 248,
   "metadata": {},
   "outputs": [],
   "source": [
    "import pandas as pd\n",
    "from time import sleep\n",
    "from selenium import webdriver\n",
    "from selenium.webdriver.support.ui import WebDriverWait\n",
    "from selenium.webdriver.common.by import By\n",
    "from selenium.webdriver.support import expected_conditions as EC"
   ]
  },
  {
   "cell_type": "code",
   "execution_count": 226,
   "metadata": {},
   "outputs": [],
   "source": [
    "cities = ['budapest', 'barcelona']"
   ]
  },
  {
   "cell_type": "code",
   "execution_count": 256,
   "metadata": {},
   "outputs": [],
   "source": [
    "def open_url(city, page, date):\n",
    "\n",
    "    driver = webdriver.Chrome()\n",
    "\n",
    "    url = f\"https://www.civitatis.com/es/{city}/?page={page}&fromDate={date}&toDate={date}\"\n",
    "    driver.get(url)\n",
    "    driver.maximize_window()\n",
    "\n",
    "    try:\n",
    "        # Wait for the filter to appear for proper page loading\n",
    "        WebDriverWait(driver, 10).until(\n",
    "            EC.presence_of_element_located((By.CLASS_NAME, 'a-filter--applied'))\n",
    "        )\n",
    "    except Exception as e:\n",
    "        print(f\"Hubo un error esperando la página: {e}\")\n",
    "    \n",
    "    sleep(1)\n",
    "\n",
    "    page_source = driver.page_source\n",
    "    soup = BeautifulSoup(page_source, 'html.parser')\n",
    "    \n",
    "    # Cerrar navegador\n",
    "    driver.close()\n",
    "\n",
    "    return soup, url"
   ]
  },
  {
   "cell_type": "code",
   "execution_count": 257,
   "metadata": {},
   "outputs": [],
   "source": [
    "soup = open_url('barcelona', '6', f'2024-11-22')[0]"
   ]
  },
  {
   "cell_type": "code",
   "execution_count": 235,
   "metadata": {},
   "outputs": [],
   "source": [
    "items = soup.findAll('div', {'class': 'o-search-list__item'})"
   ]
  },
  {
   "cell_type": "code",
   "execution_count": 267,
   "metadata": {},
   "outputs": [
    {
     "data": {
      "text/plain": [
       "<div class=\"m-availability m-availability_times\"><span class=\"_time _show-on-large\">11:00</span><span class=\"_time _show-on-large\">12:00</span><span class=\"_time _show-on-large\">13:00</span><span class=\"_time _show-on-large\">14:00</span><span class=\"_time _show-on-large\">15:00</span><span class=\"_time _show-on-large\">16:00</span><span class=\"_time _single-day-schedule\">18:00</span><span aria-describedby=\"1i13j6-tooltip\" class=\"m-availability_times__plus-button _show-on-medium-down\" data-resize=\"1i13j6-tooltip\" data-toggle=\"1i13j6-tooltip\" data-tooltip=\"1vrsyz-tooltip\" data-yeti-box=\"1i13j6-tooltip\" title=\"\"></span></div>"
      ]
     },
     "execution_count": 267,
     "metadata": {},
     "output_type": "execute_result"
    }
   ],
   "source": [
    "soup.findAll('div', class_='m-availability_times')[5]"
   ]
  },
  {
   "cell_type": "code",
   "execution_count": 270,
   "metadata": {},
   "outputs": [
    {
     "data": {
      "text/plain": [
       "'11:00'"
      ]
     },
     "execution_count": 270,
     "metadata": {},
     "output_type": "execute_result"
    }
   ],
   "source": [
    "soup.findAll('div', class_='m-availability_times')[5].findAll('span')[0].text"
   ]
  },
  {
   "cell_type": "code",
   "execution_count": 251,
   "metadata": {},
   "outputs": [],
   "source": [
    "nombres = []\n",
    "puntuaciones = []\n",
    "precios = []\n",
    "descripciones = []\n",
    "links = []\n",
    "\n",
    "for item in items:\n",
    "    try:\n",
    "        nombres.append(item.find('h2', {\"class\": \"comfort-card__title\"}).text.replace('\\n', '').replace('\\t', '').strip())\n",
    "        puntuaciones.append((item).find('span', {\"class\": \"m-rating--text\"}).text.replace('\\n', '').replace('\\t', '').replace('/ 10', '').replace(',', '.').strip())\n",
    "        precios.append(item.find('span', {\"class\": \"comfort-card__price__text\"}).text.replace('\\n', '').replace('\\t', '').replace(' €', '').strip())\n",
    "        descripciones.append(item.find('div', {\"class\": \"comfort-card__text l-list-card__text\"}).text.replace('\\n', '').replace('\\t', '').strip())\n",
    "        links.append(f\"https://www.civitatis.com/{item.find('a', {'class': 'ga-trackEvent-element _activity-link'}).get('href')}\")\n",
    "        \n",
    "    except:\n",
    "        pass\n"
   ]
  },
  {
   "cell_type": "code",
   "execution_count": 252,
   "metadata": {},
   "outputs": [
    {
     "data": {
      "text/plain": [
       "['Tour en bicicleta eléctrica por Barcelona',\n",
       " 'Entrada a Colonia Güell',\n",
       " 'Tour en 4x4 por los viñedos del Penedés',\n",
       " 'Tour de Barcelona para Instagram',\n",
       " 'Excursión privada desde Barcelona',\n",
       " 'Entrada al MACBA, el Museo de Arte Contemporáneo',\n",
       " 'Entrada al Museo Olímpico de Barcelona',\n",
       " 'Juego de pistas en Barcelona: Los fantasmas del Barrio Gótico',\n",
       " 'ArticketBCN',\n",
       " 'Entrada a KBr Fundación MAPFRE Barcelona Photo Center',\n",
       " 'Entrada a IKONO Barcelona',\n",
       " 'Tour de tapas por los mercados de La Boquería y Santa Caterina',\n",
       " 'Paseo en globo por Montserrat',\n",
       " 'Entrada al Museo de Historia de Cataluña',\n",
       " 'Excursión a Montserrat + Paseo a caballo',\n",
       " 'Barcelona Card Express',\n",
       " 'Espectáculo flamenco en el Tablao de Carmen']"
      ]
     },
     "execution_count": 252,
     "metadata": {},
     "output_type": "execute_result"
    }
   ],
   "source": [
    "nombres"
   ]
  },
  {
   "cell_type": "code",
   "execution_count": null,
   "metadata": {},
   "outputs": [],
   "source": []
  }
 ],
 "metadata": {
  "kernelspec": {
   "display_name": "test",
   "language": "python",
   "name": "python3"
  },
  "language_info": {
   "codemirror_mode": {
    "name": "ipython",
    "version": 3
   },
   "file_extension": ".py",
   "mimetype": "text/x-python",
   "name": "python",
   "nbconvert_exporter": "python",
   "pygments_lexer": "ipython3",
   "version": "3.12.4"
  }
 },
 "nbformat": 4,
 "nbformat_minor": 2
}
